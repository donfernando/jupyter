{
 "cells": [
  {
   "cell_type": "markdown",
   "id": "4fa886ec-12c7-4c30-a33d-78ba7cbbb675",
   "metadata": {
    "tags": []
   },
   "source": [
    "### Atencion al seleccionar el kernel que se ejecuta"
   ]
  },
  {
   "cell_type": "markdown",
   "id": "b39ec8b5-79c7-4207-8224-1e1762398035",
   "metadata": {},
   "source": [
    "# Ejemplos de uso de MathJax"
   ]
  },
  {
   "cell_type": "markdown",
   "id": "6fbb7871-3174-41e7-8a9e-88c111bde0b8",
   "metadata": {
    "tags": []
   },
   "source": [
    "https://math.meta.stackexchange.com/questions/5020/mathjax-basic-tutorial-and-quick-reference"
   ]
  },
  {
   "cell_type": "markdown",
   "id": "e524c177-b6c2-4769-a7ee-efcd81273c69",
   "metadata": {
    "tags": []
   },
   "source": [
    "$$\n",
    "\\frac{d\\mathbf{R}(t)}{dt}=\\mathbf{V}(t) \\tag{1}\n",
    "$$\n",
    "$$\n",
    "m\\frac{d\\mathbf{V}(t)}{dt}=-\\zeta\\mathbf{V}(t)-k\\mathbf{R}(t) \\tag{2}\n",
    "$$"
   ]
  },
  {
   "cell_type": "markdown",
   "id": "675aabe4-4f8c-4c8b-8b05-8cded8c99cc9",
   "metadata": {},
   "source": [
    "$\\sum_{i=0}^n i^2 = \\frac{(n^2+n)(2n+1)}{6}$"
   ]
  },
  {
   "cell_type": "markdown",
   "id": "a10565f9-0850-4aa3-bab8-a9b38dc7743e",
   "metadata": {
    "tags": []
   },
   "source": [
    "# Ejemplo HTML"
   ]
  },
  {
   "cell_type": "markdown",
   "id": "c0b42b6f-dc00-49e9-9aa1-78b5890faf8b",
   "metadata": {
    "tags": []
   },
   "source": [
    "<a href=\"../intro.md\">Go Home HTML!</a>\n",
    "\n",
    "[Go Home Markdown!](../intro.md)"
   ]
  },
  {
   "cell_type": "markdown",
   "id": "d03f0af0-9f00-4e4e-a261-1c51d0552bf2",
   "metadata": {
    "tags": []
   },
   "source": [
    "<img src=\"admin.png\" alt=\"the fun fish!\" width=\"100px\"/>"
   ]
  },
  {
   "cell_type": "code",
   "execution_count": 1,
   "id": "07dea626-ed52-4315-8b03-91be4dc5aedc",
   "metadata": {
    "tags": []
   },
   "outputs": [
    {
     "data": {
      "text/html": [
       "\n",
       "<iframe src=\"https://www.google.com/maps/embed?pb=!1m18!1m12!1m3!1d3592984.8538165656!2d-18.096789575396794!3d28.426067294993228!2m3!1f0!2f0!3f0!3m2!1i1024!2i768!4f13.1!3m3!1m2!1s0xc41aa86ef755363%3A0x10340f3be4bc8c0!2sCanarias!5e0!3m2!1ses!2ses!4v1623755509663!5m2!1ses!2ses\" width=\"400\" height=\"300\" style=\"border:0;\" allowfullscreen=\"\" loading=\"lazy\"></iframe>\n"
      ],
      "text/plain": [
       "<IPython.core.display.HTML object>"
      ]
     },
     "metadata": {},
     "output_type": "display_data"
    }
   ],
   "source": [
    "%%html\n",
    "\n",
    "<iframe src=\"https://www.google.com/maps/embed?pb=!1m18!1m12!1m3!1d3592984.8538165656!2d-18.096789575396794!3d28.426067294993228!2m3!1f0!2f0!3f0!3m2!1i1024!2i768!4f13.1!3m3!1m2!1s0xc41aa86ef755363%3A0x10340f3be4bc8c0!2sCanarias!5e0!3m2!1ses!2ses!4v1623755509663!5m2!1ses!2ses\" width=\"400\" height=\"300\" style=\"border:0;\" allowfullscreen=\"\" loading=\"lazy\"></iframe>\n"
   ]
  },
  {
   "cell_type": "code",
   "execution_count": 7,
   "id": "d9968a26-19fd-4ce5-b5aa-c0481b5a93b9",
   "metadata": {
    "tags": []
   },
   "outputs": [
    {
     "name": "stdout",
     "output_type": "stream",
     "text": [
      "total 172\n",
      "-rw-r--r-- 1 fernando fernando 117447 mar 15 21:07 admin.png\n",
      "-rw-rw-r-- 1 fernando fernando   1141 abr 25 21:53 Ejemplo_01.ipynb\n",
      "-rw-rw-r-- 1 fernando fernando  30788 abr 25 19:34 Ejemplo_02.ipynb\n",
      "-rw-rw-r-- 1 fernando fernando   1641 abr 25 22:08 EjemploJava_01.ipynb\n",
      "-rw-rw-r-- 1 fernando fernando   1445 abr 25 22:16 EjemploJava_02.ipynb\n",
      "-rw-rw-r-- 1 fernando fernando   2344 abr 28 00:52 Pruebas_01.ipynb\n",
      "-rw-rw-r-- 1 fernando fernando   7822 may  4 12:00 Pruebas_Latex_y_Formulas.ipynb\n"
     ]
    }
   ],
   "source": [
    "%%bash\n",
    "\n",
    "ls -l"
   ]
  },
  {
   "cell_type": "code",
   "execution_count": null,
   "id": "7c5a4d20-939a-474c-9514-5b2e2386184f",
   "metadata": {},
   "outputs": [],
   "source": []
  },
  {
   "cell_type": "code",
   "execution_count": 8,
   "id": "97a0a5e0-4dc5-4204-974a-6befb1e2503c",
   "metadata": {
    "tags": []
   },
   "outputs": [
    {
     "data": {
      "text/html": [
       "\n",
       "<marquee style='width: 30%; color: blue;'><b>Whee!</b></marquee>\n"
      ],
      "text/plain": [
       "<IPython.core.display.HTML object>"
      ]
     },
     "metadata": {},
     "output_type": "display_data"
    }
   ],
   "source": [
    "%%html\n",
    "\n",
    "<marquee style='width: 30%; color: blue;'><b>Whee!</b></marquee>"
   ]
  },
  {
   "cell_type": "code",
   "execution_count": 11,
   "id": "d55afb49-c46d-446a-8eb6-c6b347b7be8c",
   "metadata": {
    "tags": []
   },
   "outputs": [
    {
     "data": {
      "text/html": [
       "<h1>Hello, world!</h1>"
      ],
      "text/plain": [
       "<IPython.core.display.HTML object>"
      ]
     },
     "metadata": {},
     "output_type": "display_data"
    }
   ],
   "source": [
    "from IPython.display import display, HTML\n",
    "display(HTML('<h1>Hello, world!</h1>'))"
   ]
  }
 ],
 "metadata": {
  "kernelspec": {
   "display_name": "Python 3 (ipykernel)",
   "language": "python",
   "name": "python3"
  },
  "language_info": {
   "codemirror_mode": {
    "name": "ipython",
    "version": 3
   },
   "file_extension": ".py",
   "mimetype": "text/x-python",
   "name": "python",
   "nbconvert_exporter": "python",
   "pygments_lexer": "ipython3",
   "version": "3.8.10"
  }
 },
 "nbformat": 4,
 "nbformat_minor": 5
}
