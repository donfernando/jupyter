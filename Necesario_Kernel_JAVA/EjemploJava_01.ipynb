{
 "cells": [
  {
   "cell_type": "markdown",
   "id": "4e373955-28bf-41f7-a048-5ed98eff5cb2",
   "metadata": {
    "tags": []
   },
   "source": [
    "### Ejemplos de sentencias Java"
   ]
  },
  {
   "cell_type": "code",
   "execution_count": 1,
   "id": "02f0a8e4-b3a0-40a4-bda8-b1079f4485ac",
   "metadata": {
    "tags": []
   },
   "outputs": [],
   "source": [
    "String x= \"Hola\""
   ]
  },
  {
   "cell_type": "code",
   "execution_count": 2,
   "id": "36a859b7-4e9d-4758-b835-d9e72418d52a",
   "metadata": {
    "tags": []
   },
   "outputs": [
    {
     "data": {
      "text/plain": [
       "Hola"
      ]
     },
     "execution_count": 2,
     "metadata": {},
     "output_type": "execute_result"
    }
   ],
   "source": [
    "x"
   ]
  },
  {
   "cell_type": "code",
   "execution_count": 2,
   "id": "12fd06fc-e0a8-49d0-8ed1-e8130fc8050a",
   "metadata": {
    "tags": []
   },
   "outputs": [
    {
     "name": "stdout",
     "output_type": "stream",
     "text": [
      "Hola Juana.\n"
     ]
    }
   ],
   "source": [
    "System.out.println(x+\" Juana.\")"
   ]
  },
  {
   "cell_type": "code",
   "execution_count": null,
   "id": "c51d4272-5d23-42df-a41f-0d63b5e8b5fb",
   "metadata": {},
   "outputs": [],
   "source": []
  }
 ],
 "metadata": {
  "kernelspec": {
   "display_name": "Java",
   "language": "java",
   "name": "java"
  },
  "language_info": {
   "codemirror_mode": "java",
   "file_extension": ".jshell",
   "mimetype": "text/x-java-source",
   "name": "Java",
   "pygments_lexer": "java",
   "version": "11.0.18+10-post-Ubuntu-0ubuntu120.04.1"
  }
 },
 "nbformat": 4,
 "nbformat_minor": 5
}
