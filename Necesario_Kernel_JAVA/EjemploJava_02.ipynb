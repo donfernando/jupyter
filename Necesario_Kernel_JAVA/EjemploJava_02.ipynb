{
 "cells": [
  {
   "cell_type": "markdown",
   "id": "95aa549a-8957-4e42-a643-7e5c953e699c",
   "metadata": {
    "tags": []
   },
   "source": [
    "### Declaracion de variable"
   ]
  },
  {
   "cell_type": "code",
   "execution_count": 1,
   "id": "4b3e5713-910e-4e0e-b4f4-45a40161a797",
   "metadata": {
    "tags": []
   },
   "outputs": [],
   "source": [
    "int i=0"
   ]
  },
  {
   "cell_type": "code",
   "execution_count": 2,
   "id": "3d859633-7615-4713-a8c4-874da8ce54e8",
   "metadata": {
    "tags": []
   },
   "outputs": [
    {
     "name": "stdout",
     "output_type": "stream",
     "text": [
      "Vuelta 1.\n",
      "Vuelta 2.\n",
      "Vuelta 3.\n",
      "Vuelta 4.\n",
      "Vuelta 5.\n"
     ]
    }
   ],
   "source": [
    "while(i++<5){\n",
    "    System.out.printf(\"Vuelta %d.\\n\",i);\n",
    "}"
   ]
  },
  {
   "cell_type": "code",
   "execution_count": 5,
   "id": "5ee25bc8-cc04-4b75-8d53-67a823304b90",
   "metadata": {
    "tags": []
   },
   "outputs": [],
   "source": [
    "// Bucle que da 5 vueltas"
   ]
  }
 ],
 "metadata": {
  "kernelspec": {
   "display_name": "Java",
   "language": "java",
   "name": "java"
  },
  "language_info": {
   "codemirror_mode": "java",
   "file_extension": ".jshell",
   "mimetype": "text/x-java-source",
   "name": "Java",
   "pygments_lexer": "java",
   "version": "11.0.18+10-post-Ubuntu-0ubuntu120.04.1"
  }
 },
 "nbformat": 4,
 "nbformat_minor": 5
}
