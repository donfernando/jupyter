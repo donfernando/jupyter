{
 "cells": [
  {
   "cell_type": "markdown",
   "id": "ffcf8131-7bb2-432a-9c05-5d51a7070f72",
   "metadata": {},
   "source": [
    "Este es un ejemplo de cálculo..."
   ]
  },
  {
   "cell_type": "code",
   "execution_count": 2,
   "id": "95af65ac-d893-40cc-93e7-e10d6c7f7622",
   "metadata": {
    "tags": []
   },
   "outputs": [
    {
     "data": {
      "text/plain": [
       "16"
      ]
     },
     "execution_count": 2,
     "metadata": {},
     "output_type": "execute_result"
    }
   ],
   "source": [
    "4*4"
   ]
  },
  {
   "cell_type": "code",
   "execution_count": null,
   "id": "5005cf6d-8d25-4fa1-bc7e-d56da7ee82d5",
   "metadata": {},
   "outputs": [],
   "source": []
  }
 ],
 "metadata": {
  "kernelspec": {
   "display_name": "Python 3 (ipykernel)",
   "language": "python",
   "name": "python3"
  },
  "language_info": {
   "codemirror_mode": {
    "name": "ipython",
    "version": 3
   },
   "file_extension": ".py",
   "mimetype": "text/x-python",
   "name": "python",
   "nbconvert_exporter": "python",
   "pygments_lexer": "ipython3",
   "version": "3.8.10"
  }
 },
 "nbformat": 4,
 "nbformat_minor": 5
}
